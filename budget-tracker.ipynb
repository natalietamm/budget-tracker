{
 "cells": [
  {
   "cell_type": "code",
   "execution_count": null,
   "metadata": {},
   "outputs": [],
   "source": [
    "# Imports\n",
    "\n",
    "import pandas as pd\n",
    "import datetime as dt\n",
    "from tkinter import *\n",
    "from tkcalendar import Calendar"
   ]
  },
  {
   "cell_type": "code",
   "execution_count": null,
   "metadata": {},
   "outputs": [],
   "source": [
    "# Read Excel file\n",
    "\n",
    "def read_excel_df():\n",
    "    columns = ('Date','Description','Category','Amount')\n",
    "    df = pd.read_excel('BudgetTracker.xlsx', names=columns)\n",
    "    df['Date'] = pd.to_datetime(df[\"Date\"]).dt.date\n",
    "    return df"
   ]
  },
  {
   "cell_type": "code",
   "execution_count": null,
   "metadata": {},
   "outputs": [],
   "source": [
    "# Choose date for entry\n",
    "\n",
    "def entry_date():\n",
    "    root = Tk()\n",
    "    cal = Calendar(root, selectmode = 'day',\n",
    "                year = 2023, month = 1,\n",
    "                day = 4)\n",
    "    cal.pack(pady = 20)\n",
    "    def selected_date():\n",
    "        print(\"Selected Date is: \" + cal.get_date())\n",
    "    def close():\n",
    "        root.destroy()\n",
    "    Button(root, text = \"Select Date\",\n",
    "        command = lambda:[selected_date(), close()]).pack(pady = 20)\n",
    "    root.mainloop()\n",
    "    \n",
    "    global entry_date_global\n",
    "\n",
    "    entry_date_global = cal.get_date()"
   ]
  },
  {
   "cell_type": "code",
   "execution_count": null,
   "metadata": {},
   "outputs": [],
   "source": [
    "# Transcaction description\n",
    "def transaction_description():\n",
    "    description = input(\n",
    "        \"Please enter description associated with the transaction: \")\n",
    "    return description"
   ]
  },
  {
   "cell_type": "code",
   "execution_count": null,
   "metadata": {},
   "outputs": [],
   "source": [
    "# Choose start date for filter\n",
    "def start_date():\n",
    "    root = Tk()\n",
    "    cal = Calendar(root, selectmode = 'day',\n",
    "                year = 2023, month = 1,\n",
    "                day = 4)\n",
    "    cal.pack(pady = 20)\n",
    "    def selected_start_date():\n",
    "        print(\"Selected Start Date is: \" + cal.get_date())\n",
    "    def close():\n",
    "        root.destroy()\n",
    "    Button(root, text = \"Select Date\",\n",
    "        command = lambda:[selected_start_date(), close()]).pack(pady = 20)\n",
    "    root.mainloop()\n",
    "\n",
    "    global start_date_global\n",
    "\n",
    "    start_date_global = cal.get_date()"
   ]
  },
  {
   "cell_type": "code",
   "execution_count": null,
   "metadata": {},
   "outputs": [],
   "source": [
    "# Choose end date for filter\n",
    "def end_date():\n",
    "    root = Tk()\n",
    "    cal = Calendar(root, selectmode = 'day',\n",
    "                year = 2023, month = 1,\n",
    "                day = 4)\n",
    "    cal.pack(pady = 20)\n",
    "    def selected_end_date():\n",
    "        print(\"Selected End Date is: \" + cal.get_date())\n",
    "    def close():\n",
    "        root.destroy()\n",
    "    Button(root, text = \"Select\",\n",
    "        command = lambda:[selected_end_date(), close()]).pack(pady = 20)\n",
    "    root.mainloop()\n",
    "\n",
    "    global end_date_global\n",
    "\n",
    "    end_date_global = cal.get_date()"
   ]
  },
  {
   "cell_type": "code",
   "execution_count": null,
   "metadata": {},
   "outputs": [],
   "source": [
    "# Choose category\n",
    "def get_category():\n",
    "    categories = [\"Income\",\"Expense\"]\n",
    "\n",
    "    root = Tk()\n",
    "\n",
    "    var = StringVar(root)\n",
    "    var.set(categories[0])\n",
    "\n",
    "    dropdown = OptionMenu(root, var, *categories)\n",
    "    dropdown.pack(pady = 20,padx = 20)\n",
    "\n",
    "\n",
    "    def selected_category():\n",
    "        print(\"The selected category is: \" + var.get())\n",
    "    \n",
    "    def close():\n",
    "        root.destroy()\n",
    "    Button(root, text = \"Select\",\n",
    "        command = lambda:[selected_category(), close()]).pack(pady = 20)\n",
    "\n",
    "    root.mainloop()\n",
    "\n",
    "    global category_global\n",
    "    \n",
    "    if var.get() == \"Income\":\n",
    "        category_global = \"Income\"\n",
    "    elif var.get() == \"Expense\":\n",
    "        category_global = \"Expense\""
   ]
  },
  {
   "cell_type": "code",
   "execution_count": null,
   "metadata": {},
   "outputs": [],
   "source": [
    "# Choose amount\n",
    "def get_amount():\n",
    "    amount = input('Please enter a transaction amount: ')\n",
    "    try:\n",
    "        amount = float(amount)\n",
    "        if amount < 0:\n",
    "            raise Exception('Amount entered must be greater than zero.')\n",
    "    except:\n",
    "        print('Invalid entry. Please try again.')\n",
    "        amount = input('Please enter a transaction amount: ')\n",
    "    \n",
    "    if category_global == 'Expense':\n",
    "        amount = -abs(amount)\n",
    "    \n",
    "    return amount"
   ]
  },
  {
   "cell_type": "code",
   "execution_count": null,
   "metadata": {},
   "outputs": [],
   "source": [
    "# Date filter\n",
    "def get_filtered_df(df):\n",
    "    start_date()\n",
    "    start_datetime = dt.datetime.strptime(start_date_global, '%m/%d/%y').date()\n",
    "    end_date()\n",
    "    end_datetime = dt.datetime.strptime(end_date_global, '%m/%d/%y').date()\n",
    "    df_filter = df.loc[(df['Date'] >= start_datetime) & (df['Date'] <= end_datetime)]\n",
    "    return df_filter"
   ]
  },
  {
   "cell_type": "code",
   "execution_count": null,
   "metadata": {},
   "outputs": [],
   "source": [
    "# Total income\n",
    "def total_income(df):\n",
    "    income = df.loc[(df['Category'] == 'Income', 'Amount')].sum()\n",
    "    return income"
   ]
  },
  {
   "cell_type": "code",
   "execution_count": null,
   "metadata": {},
   "outputs": [],
   "source": [
    "# Total expense\n",
    "def total_expense(df):\n",
    "    expense = df.loc[(df['Category'] == 'Expense', 'Amount')].sum()\n",
    "    return expense"
   ]
  },
  {
   "cell_type": "code",
   "execution_count": null,
   "metadata": {},
   "outputs": [],
   "source": [
    "# Main function\n",
    "\n",
    "df = read_excel_df()\n",
    "    \n",
    "while True:\n",
    "    row = []\n",
    "        \n",
    "    entry_date()\n",
    "    entry_datetime = dt.datetime.strptime(entry_date_global, '%m/%d/%y').date()\n",
    "    row.append(entry_datetime)\n",
    "\n",
    "    description = transaction_description()\n",
    "    row.append(description)\n",
    "        \n",
    "    get_category()\n",
    "    row.append(category_global)\n",
    "        \n",
    "    amount = get_amount()\n",
    "    row.append(amount)\n",
    "        \n",
    "    df.loc[len(df)] = row\n",
    "        \n",
    "    choice = input(\"Enter 'YES' if you would like to continue entering transactions: \")\n",
    "        \n",
    "    if choice.lower() != 'yes':\n",
    "        writer = pd.ExcelWriter('BudgetTracker.xlsx')\n",
    "        df.to_excel(writer, index=False)\n",
    "        writer.save()\n",
    "        print('File saved successfully.')\n",
    "        break\n",
    "        \n",
    "df_filter = get_filtered_df(df)\n",
    "print(df_filter)\n",
    "        \n",
    "income = total_income(df_filter)\n",
    "print(f'Your total income for the filtered date range is {income}')\n",
    "        \n",
    "expense = abs(total_expense(df_filter))\n",
    "print(f'Your total expense for the filtered date range is {expense}')\n",
    "        \n",
    "difference = income - expense\n",
    "        \n",
    "if difference > 0:\n",
    "    print(f'You saved a total of {difference} for the filtered date range')\n",
    "elif difference < 0:\n",
    "    print(f'You lost a total of {difference} for the filtered date range')"
   ]
  }
 ],
 "metadata": {
  "kernelspec": {
   "display_name": "base",
   "language": "python",
   "name": "python3"
  },
  "language_info": {
   "name": "python",
   "version": "3.9.12 (main, Apr  4 2022, 05:22:27) [MSC v.1916 64 bit (AMD64)]"
  },
  "orig_nbformat": 4,
  "vscode": {
   "interpreter": {
    "hash": "13a2995ff2113a8b97bad77ded41db0bf5209c76a7fff3daa30656e242907223"
   }
  }
 },
 "nbformat": 4,
 "nbformat_minor": 2
}
